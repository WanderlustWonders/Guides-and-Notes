{
 "metadata": {
  "language_info": {
   "codemirror_mode": {
    "name": "ipython",
    "version": 3
   },
   "file_extension": ".py",
   "mimetype": "text/x-python",
   "name": "python",
   "nbconvert_exporter": "python",
   "pygments_lexer": "ipython3",
   "version": "3.8.6-final"
  },
  "orig_nbformat": 2,
  "kernelspec": {
   "name": "python3",
   "display_name": "Python 3.8.6 64-bit",
   "metadata": {
    "interpreter": {
     "hash": "a3e8ecde25420bd66070ec5b58ca4e272e2a26d84d7564d7ae8ca59a6bdb3e02"
    }
   }
  }
 },
 "nbformat": 4,
 "nbformat_minor": 2,
 "cells": [
  {
   "source": [
    "# Jupyter Notebook Notes\n",
    "\n",
    "<u>References</u>:<br>\n",
    "Markdown Cheatsheet: [Markdown Cheatsheet](https://github.com/adam-p/markdown-here/wiki/Markdown-Cheatsheet)<br>\n",
    "Markdown Jupyter Tips: [Markdown Guide for Jupyter](https://medium.com/analytics-vidhya/the-ultimate-markdown-guide-for-jupyter-notebook-d5e5abf728fd)"
   ],
   "cell_type": "markdown",
   "metadata": {}
  },
  {
   "source": [
    "## Table of Contents\n",
    "\n",
    "1. [Anchor Links](#anchor)\n",
    "2. [Code Blocks](#codeblock)\n",
    "3. <a href='#head'>Headers</a>\n",
    "4. [Text Formatting](#textform)\n",
    "5. [Indenting and Line Breaks](#breaks)\n",
    "6. [Blockquotes and Horizontal Lines](#block)\n",
    "7. [Lists](#lis)\n",
    "8. [Insert Links](#link)\n",
    "9. [Insert Images](#img)\n",
    "10. [Colored Boxes](#box)\n",
    "11. [Something To Brighten Your Day](#bright)"
   ],
   "cell_type": "markdown",
   "metadata": {}
  },
  {
   "source": [
    "<a id='anchor'></a>"
   ],
   "cell_type": "markdown",
   "metadata": {}
  },
  {
   "source": [
    "<h2>Anchor Links</h2>\n",
    "<br>\n",
    "Insert the below code above the cell to link.\n",
    "\n",
    "```\n",
    "    a id='another_cell'></a>\n",
    "```\n",
    "\n",
    "<br>\n",
    "\n",
    "Insert the anchor code where desired, which will link to the cell with id.\n",
    "\n",
    "```\n",
    "    [Section title](#id)\n",
    "```\n",
    "\n"
   ],
   "cell_type": "markdown",
   "metadata": {}
  },
  {
   "source": [
    "<a id='codeblock'></a>"
   ],
   "cell_type": "markdown",
   "metadata": {}
  },
  {
   "source": [
    "<h2>Code Blocks</h2>\n",
    "<br>\n",
    "<ins>Markdown Syntax</ins>\n",
    "\n",
    "Surround code with three backticks (`) on both sides.\n",
    "\n",
    "<br>\n",
    "\n",
    "<ins>HTML Syntax</ins>\n",
    "\n",
    "Use pre and code tags with specifications such as style, background color, font-family, font-size, border, etc. attributes.\n",
    "\n",
    "Note: Special characters (< > &) need to be converted into HTML Character Entity codes.\n",
    "\n",
    "<pre> \n",
    "<code style=\"background-color: #353434; border: 1px solid #999; display: block; padding: 10px\">\n",
    "<span style=\"color:white; font-family:Georgia; font-size:12px\">\n",
    "\n",
    "Code here\n",
    "\n",
    "</span>\n",
    "</code> \n",
    "</pre>\n",
    "\n"
   ],
   "cell_type": "markdown",
   "metadata": {}
  },
  {
   "source": [
    "<a id='head'></a>"
   ],
   "cell_type": "markdown",
   "metadata": {}
  },
  {
   "source": [
    "<h2>Headers</h2>\n",
    "<br>\n",
    "<ins>Markdown Syntax</ins>\n",
    "\n",
    "```\n",
    "    # H1\n",
    "    ## H2\n",
    "    ### H3\n",
    "    #### H4\n",
    "    ##### H5\n",
    "    ###### H6\n",
    "```\n",
    "\n",
    "<ins>HTML Syntax</ins>\n",
    "```\n",
    "    <h1> Header 1, title </h1>\n",
    "    <h2> Header 2, major headings </h2>\n",
    "    <h3> Header 3, subheadings </h3>\n",
    "    <h4> Header 4 </h4>\n",
    "    <h5> Header 5 </h5>\n",
    "    <h6> Header 6 </h6>\n",
    "```"
   ],
   "cell_type": "markdown",
   "metadata": {}
  },
  {
   "source": [
    "<a id='textform'></a>"
   ],
   "cell_type": "markdown",
   "metadata": {}
  },
  {
   "source": [
    "<h2>Text Formatting</h2>\n",
    "\n",
    "Tips for [Html Formatting](https://www.w3schools.com/html/html_formatting.asp)\n",
    "\n",
    "<br>\n",
    "\n",
    "<ins>Bold text</ins>: ```** Text **``` or ```<b> Text </b>```\n",
    "\n",
    "<ins>Italicize text</ins>: ```* Text *``` or ```<i> Text </i>```\n",
    "\n",
    "<ins>Superscript</ins>: ```^ Text ^``` or ```<sup> Text </sup>```\n",
    "\n",
    "<ins>Subscript</ins>: ```~ Text ~``` or ```<sub> Text </sub>```\n",
    "\n",
    "<ins>Strike-through</ins>: ```~~ Text ~~``` or ```<strike> Text </strike>```\n",
    "\n",
    "<ins>Underline</ins>: ```<ins> Text </ins>```\n",
    "\n",
    "<ins>Highlight</ins>: ```<mark> Text </mark>```\n",
    "\n",
    "<br>\n",
    "\n",
    "<h3>Font Color, Size, etc.</h3>\n",
    "\n",
    "\n",
    "Syntax: <br>\n",
    "```\n",
    "    <p style=\"background:color; text-align:center>\n",
    "        <span style=\"background:color; color:color; font-family:Comic Sans MS\"> \n",
    "            Text \n",
    "        </span>\n",
    "    </p>\n",
    "```\n",
    "\n",
    "Example:\n",
    "\n",
    "<p style=\"background:black; text-align:center\">\n",
    "<code style=\"background:;color:white;font-family:Comic Sans MS\">Hello, world!\n",
    "</code>\n",
    "</p>"
   ],
   "cell_type": "markdown",
   "metadata": {}
  },
  {
   "source": [
    "<a id=\"breaks\"></a>"
   ],
   "cell_type": "markdown",
   "metadata": {}
  },
  {
   "source": [
    "<h2>Indenting and Line Breaks</h2>\n",
    "<br>\n",
    "<h3>Line Breaks</h3>\n",
    "\n",
    "- Use ```<br>```\n",
    "- Use LaTeX macros. ```\\hfill\\break:```\n",
    "\n",
    "\n",
    "<br>\n",
    "\n",
    "<h3>Page Breaks</h3>\n",
    "\n",
    "- Use LaTeX macros. ```\\newpage```\n",
    "\n",
    "<br>\n",
    "\n",
    "<h3>Indents</h3>\n",
    "Multiple methods. Remember to enter a line break before the indented or bulleted text.\n",
    "\n",
    "- Use line blocks | in front of a sentence \n",
    "- Use > to indent the whole paragraph.  \n",
    "- Use four spaces in front of a sentence. Use four additional spaces for each additional nesting level.  \n",
    "- Fr R: To indent first line of each paragraph, add backslash usepackage{indentfirst} to the YAML and indent: true.  \n",
    "\n",
    "<ins>HTML Syntax</ins>:\n",
    "```\n",
    "    <style>\n",
    "    p { \n",
    "    text-indent: 30px;\n",
    "    }\n",
    "    </style>\n",
    "```\n",
    "\n",
    "<br>\n",
    "\n",
    "```\n",
    "    <style>\n",
    "    p:first-line {\n",
    "        text-indent:30px;\n",
    "    }\n",
    "    </style>\n",
    "```\n"
   ],
   "cell_type": "markdown",
   "metadata": {}
  },
  {
   "source": [
    "<a id=\"block\"></a>"
   ],
   "cell_type": "markdown",
   "metadata": {}
  },
  {
   "source": [
    "<h2>Blockquotes</h2>\n",
    "\n",
    "Blockquotes hold larger chunks of text and are indented.  \n",
    "\n",
    "<br>\n",
    "\n",
    "<ins>Markdown Syntax</ins>\n",
    "\n",
    "```\n",
    "> Text\n",
    "```\n",
    "\n",
    "<br>  \n",
    "\n",
    "\n",
    "<ins>HTML Syntax</ins>\n",
    "\n",
    "```\n",
    "<blockquote> Text </blockquote>\n",
    "```\n",
    "\n",
    "> Lorem ipsum dolor sit amet, consectetur adipiscing elit, sed do eiusmod tempor incididunt ut labore et dolore magna aliqua. Ut enim ad minim veniam, quis nostrud exercitation ullamco laboris nisi ut aliquip ex ea commodo consequat. \n",
    "\n",
    "<br>\n",
    "\n",
    "<h2>Horizontal Lines</h2>\n",
    "\n",
    "Three or more ```***``` ```---``` ```___```\n"
   ],
   "cell_type": "markdown",
   "metadata": {}
  },
  {
   "source": [
    "<a id=\"lis\"></a>"
   ],
   "cell_type": "markdown",
   "metadata": {}
  },
  {
   "source": [
    "<h2>Lists</h2>\n",
    "\n",
    "Tips on [HTML Lists](https://www.w3schools.com/html/html_lists.asp). Remember to enter a line break before the indented or bulleted text.\n",
    "\n",
    "<br>\n",
    "\n",
    "<h3>Unordered Lists and Bullets</h3>\n",
    "\n",
    "<ins>HTML Syntax</ins>:\n",
    "\n",
    "Begin with ```<ul>``` tag. Each list item starts with the ```<li>``` tag.\n",
    "\n",
    "```\n",
    "  <ul>\n",
    "    <li>Coffee</li>\n",
    "    <li>Tea</li>\n",
    "    <li>Milk</li>\n",
    "  </ul>\n",
    "```\n",
    "\n",
    "\n",
    "<br>\n",
    "\n",
    "\n",
    "<ins>Markdown Syntax</ins>:\n",
    "\n",
    "Circular bullet: Use dash with a space (- ) or space dash space ( - ) <br>\n",
    "Sub-bullet: Tab dash space (  - )\n",
    "\n",
    "Asterisk can be used in place of a dash.\n",
    "\n",
    "<br><br>\n",
    "\n",
    "<h3>Ordered Lists and Bullets</h3>\n",
    "\n",
    "<ins>HTML Syntax</ins>\n",
    "\n",
    "Begin with ```<ol>``` tag. Each list item starts with the ```<li>``` tag.\n",
    "```\n",
    "  <ol>\n",
    "    <li>Coffee</li>\n",
    "    <li>Tea</li>\n",
    "    <li>Milk</li>\n",
    "  </ol>\n",
    "```\n",
    "\n",
    "<br>\n",
    "\n",
    "<ins>Markdown Syntax</ins>\n",
    "\n",
    "Start with ```1. ``` followed by a space, then it starts numbering for you. Start each line with some number and a period, then a space. \n",
    "Tab to indent and allow subnumbering.\n",
    "\n",
    "<br>\n",
    "\n",
    "<h3>TASK LISTS</h3>\n",
    "\n",
    "<ins>Markdown Syntax</ins>\n",
    "```\n",
    "- [x] Some task\n",
    "- [ ] Some more task\n",
    "```\n",
    "<br>\n",
    "\n",
    "<ins>HTML Syntax</ins>\n",
    "```\n",
    "<input type=”checkbox” disabled checked> Some task\n",
    "<input type=”checkbox” disabled> Some more task\n",
    "```"
   ],
   "cell_type": "markdown",
   "metadata": {}
  },
  {
   "source": [
    "<a id=\"link\"></a>"
   ],
   "cell_type": "markdown",
   "metadata": {}
  },
  {
   "source": [
    "<h2>Insert Links</h2>\n",
    "<br>\n",
    "<h3>Markdown Links</h3>\n",
    "<br>\n",
    "<ins>Markdown Syntax:</ins>: \n",
    "\n",
    "```\n",
    "  [Link Text](\"URL\")\n",
    "```\n",
    "\n",
    "<br>\n",
    "\n",
    "<h3>HTML Links</h3>\n",
    "<br>\n",
    "<ins>HTML Syntax</ins>: Use anchor tags. <br>\n",
    "\n",
    "```\n",
    "  <Open anchor  href = \"URL\"> Link Text </a>\n",
    "```\n",
    "\n",
    "<br>\n",
    "\n",
    "<ins>HTML Link Format</ins>:\n",
    "By default, a link will appear like this (in all browsers):\n",
    "- An unvisited link is underlined and blue\n",
    "- A visited link is underlined and purple\n",
    "- An active link is underlined and red\n",
    "\n",
    "To change the color of URLs and link text, apply ```<style>``` tags.\n",
    "\n",
    "```\n",
    "  <style>\n",
    "  a:link {\n",
    "    color: green;\n",
    "    background-color: transparent;\n",
    "    text-decoration: none;\n",
    "  }\n",
    "\n",
    "  a:visited {\n",
    "    color: pink;\n",
    "    background-color: transparent;\n",
    "    text-decoration: none;\n",
    "  }\n",
    "\n",
    "  a:hover {\n",
    "    color: red;\n",
    "    background-color: transparent;\n",
    "    text-decoration: underline;\n",
    "  }\n",
    "\n",
    "  a:active {\n",
    "    color: yellow;\n",
    "    background-color: transparent;\n",
    "    text-decoration: underline;\n",
    "  }\n",
    "  </style>\n",
    "```\n",
    "\n",
    "<br>\n",
    "\n",
    "<ins>HTML Link Target Attribute</ins>:\n",
    "By default, the linked page will be displayed in the current browser window. \n",
    "\n",
    "To change this, specify another target for the link. The target attribute can have one of the following values:\n",
    "- _self: Default. Opens the document in the same window/tab as it was clicked\n",
    "- _blank: Opens the document in a new window or tab\n",
    "- _parent: Opens the document in the parent frame\n",
    "- _top: Opens the document in the full body of the window\n",
    "\n",
    "Use target=\"_blank\" to open the linked document in a new browser window or tab:\n",
    "```\n",
    "  <Open anchor href=\"https://www.w3schools.com/\" target=\"_blank\">Visit W3Schools! </a>\n",
    "```\n"
   ],
   "cell_type": "markdown",
   "metadata": {}
  },
  {
   "source": [
    "<a id=\"img\"></a>"
   ],
   "cell_type": "markdown",
   "metadata": {}
  },
  {
   "source": [
    "<h2>Insert Images</h2>\n",
    "\n",
    "\n",
    "<ins>Markdown Syntax</ins>\n",
    "\n",
    "Currently, Markdown has no syntax for specifying the dimensions of an image. Use regular HTML tags if you need to insert a resized image.\n",
    "```\n",
    "! [AltText](Path image in working directory or online \"Title Text\")\n",
    "```\n",
    "\n",
    "<br>\n",
    "\n",
    "<ins>HTML Syntax</ins>\n",
    "\n",
    "Most browsers except Internet Explorer follow the W3C standards for HTML, which states that:\n",
    "\n",
    "- Text in the Title attribute is designed to display as balloon text.\n",
    "- Alt text is designed to only display when an image doesn't load. \n",
    "\n",
    "```\n",
    "    <div>\n",
    "        <p align=\"center\"\n",
    "            <img src=URL width=%/px height=%/px title=\"TextOnHover\" alt=\"Alt Text\">\n",
    "        </p>\n",
    "    <div>\n",
    "```\n",
    "\n",
    "<div><p align=\"center\">\n",
    "<img src=https://images.unsplash.com/photo-1591608971362-f08b2a75731a?ixlib=rb-1.2.1&ixid=MXwxMjA3fDB8MHxwaG90by1wYWdlfHx8fGVufDB8fHw%3D&auto=format&fit=crop&w=800&q=80 height=40% width=40% title=\"Robin in Summer Plumage. @Chris Smith at Unsplash.com\">\n",
    "</p></div>\n",
    "\n"
   ],
   "cell_type": "markdown",
   "metadata": {}
  },
  {
   "source": [
    "<a id=\"boc\"></a>"
   ],
   "cell_type": "markdown",
   "metadata": {}
  },
  {
   "source": [
    "<h2>Colored Boxes</h2>\n",
    "\n",
    "<h3>Blue Boxes</h3>\n",
    "\n",
    "```\n",
    "    <div class=\"alert alert-block alert-info\">\n",
    "        <b>Tip:</b> Use blue boxes (alert-info) for tips and notes.\n",
    "    </div>\n",
    "```\n",
    "\n",
    "<h3>Green Boxes</h3>\n",
    "\n",
    "```\n",
    "    <div class=\"alert alert-block alert-success\">\n",
    "        <b>Success:</b> This alert box indicates a successful or positive action.\n",
    "    </div>\n",
    "```\n",
    "\n",
    "<h3>Red Boxes</h3>\n",
    "\n",
    "```\n",
    "    <div class=\"alert alert-block alert-danger\">\n",
    "        <b>Danger:</b> This alert box indicates a dangerous or potentially negative action.\n",
    "    </div>\n",
    "```"
   ],
   "cell_type": "markdown",
   "metadata": {}
  },
  {
   "source": [
    "<h2>Special Characters</h2>\n",
    "\n",
    "Mathematical symbols\n",
    "Surround mathematical symbols with a dollar sign like this addition symbol: $ + $"
   ],
   "cell_type": "markdown",
   "metadata": {}
  },
  {
   "source": [
    "<a id='bright'></a>"
   ],
   "cell_type": "markdown",
   "metadata": {}
  },
  {
   "source": [
    "<h2> A little something to brighten your day </h2>\n",
    "\n",
    "\n",
    "Here's a picture of a cat and three cat facts:\n",
    "\n",
    "* Cats sweat through their paws. Because they are covered in fur, there are very few places that they can sweat. Most of their sweat glands are on their paws.\n",
    "* Cats purr at a frequency between 25 and 150 Hertz. This frequency is when bones and muscles grow and repair themselves.\n",
    "* Cats can filter the salt out of seawater, so they won't get dehydrated when they drink it like a human would.\n",
    "* Find more [Cat facts](https://kids.kiddle.co/Cat#Interesting_facts_about_cats_for_kids \"Facts for Kids\")\n",
    "\n",
    "<div>\n",
    "<p align=\"center\"> \n",
    "<img src=https://images.unsplash.com/photo-1519052537078-e6302a4968d4?ixid=MXwxMjA3fDB8MHxwaG90by1wYWdlfHx8fGVufDB8fHw%3D&ixlib=rb-1.2.1&auto=format&fit=crop&w=1050&q=80 height=50% width=50% title=\"Orange Tabby Cat. @michaelsum1228 at Unsplash.com\" alt=\"Orange Tabby Cat. @michaelsum1228 at Unsplash.com\">\n",
    "</p>\n",
    "</div>\n",
    "\n",
    "\n",
    "---\n",
    "\n",
    "Here's a picture of a dog and three dog facts:\n",
    "\n",
    "* A dog’s nose print is unique, and similar to human fingerprints that no two are the same.\n",
    "* Dogs cannot eat raisins, grapes, onion, chocolate or garlic because it makes them very sick.\n",
    "* The largest breed of dog in the world is the Irish wolfhound. The smallest dog breed is the Chihuahua (dog).\n",
    "* Find more [Dog facts](https://kids.kiddle.co/Dog#Interesting_facts_about_dogs_for_kids \"Facts for Kids\")\n",
    "\n",
    "<div>\n",
    "<p align=\"center\"> \n",
    "<img src=https://images.unsplash.com/photo-1598398386929-4d5370672e9f?ixid=MXwxMjA3fDB8MHxwaG90by1wYWdlfHx8fGVufDB8fHw%3D&ixlib=rb-1.2.1&auto=format&fit=crop&w=626&q=80 height=50% width=50% title=\"German Shepherd. @dexezekiel at Unsplash.com\">\n",
    "</p> \n",
    "</div>\n"
   ],
   "cell_type": "markdown",
   "metadata": {}
  },
  {
   "source": [
    "<h2>Libraries and notations</h2>\n",
    "\n",
    "%%latex\n",
    "\n",
    "%%html"
   ],
   "cell_type": "markdown",
   "metadata": {}
  },
  {
   "cell_type": "code",
   "execution_count": 3,
   "metadata": {},
   "outputs": [
    {
     "output_type": "display_data",
     "data": {
      "text/plain": "<IPython.core.display.Latex object>",
      "text/latex": "\\newpage"
     },
     "metadata": {}
    }
   ],
   "source": [
    "# Latex\n",
    "\n",
    "from IPython.display import display, Math, Latex\n",
    "display(Latex(r\"\\newpage\"))"
   ]
  }
 ]
}