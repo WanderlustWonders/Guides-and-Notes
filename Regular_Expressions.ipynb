{
 "metadata": {
  "language_info": {
   "codemirror_mode": {
    "name": "ipython",
    "version": 3
   },
   "file_extension": ".py",
   "mimetype": "text/x-python",
   "name": "python",
   "nbconvert_exporter": "python",
   "pygments_lexer": "ipython3",
   "version": "3.8.6-final"
  },
  "orig_nbformat": 2,
  "kernelspec": {
   "name": "python3",
   "display_name": "Python 3.8.6 64-bit",
   "metadata": {
    "interpreter": {
     "hash": "a3e8ecde25420bd66070ec5b58ca4e272e2a26d84d7564d7ae8ca59a6bdb3e02"
    }
   }
  }
 },
 "nbformat": 4,
 "nbformat_minor": 2,
 "cells": [
  {
   "source": [
    "<h1> Regular Expression Notes </h1>\n",
    "\n",
    "[Python 3: How-To RegEx](\"https://docs.python.org/3/howto/regex.html#\")\n",
    "\n",
    "[Python 3: Regular Expression Operations](\"https://docs.python.org/3/library/re.html\")"
   ],
   "cell_type": "markdown",
   "metadata": {}
  },
  {
   "cell_type": "code",
   "execution_count": null,
   "metadata": {},
   "outputs": [],
   "source": [
    "import re"
   ]
  },
  {
   "source": [
    "<h2> Variables inside  regular expressions </h2>\n",
    "\n",
    "<br>\n",
    "\n",
    "<h3> String Formatting </h3>\n",
    "Use '%s' followed by '%VarName'\n"
   ],
   "cell_type": "markdown",
   "metadata": {}
  },
  {
   "cell_type": "code",
   "execution_count": null,
   "metadata": {},
   "outputs": [],
   "source": [
    "a_string = \"The quick brown fox jumped over the lazy dog.\"\n",
    "pattern = \"fox\"\n",
    "match = re.findall(\"%s\" % pattern, a_string)\n",
    "\n",
    "print(match)"
   ]
  },
  {
   "source": [
    "<h3> String Formatting and re.escape() </h3>\n",
    "\n",
    "Use re.escape() to deal with escape (special) characters.\n"
   ],
   "cell_type": "markdown",
   "metadata": {}
  },
  {
   "cell_type": "code",
   "execution_count": null,
   "metadata": {},
   "outputs": [],
   "source": [
    "a_string = \"The quick brown fox jumped over the lazy dog.\"\n",
    "pattern = \"fox\"\n",
    "match = re.findall(re.escape(pattern), a_string)\n",
    "\n",
    "print(match)"
   ]
  },
  {
   "source": [
    "<h2> Replacement Using Regular Expressions: re.sub() </h2>"
   ],
   "cell_type": "markdown",
   "metadata": {}
  },
  {
   "cell_type": "code",
   "execution_count": null,
   "metadata": {},
   "outputs": [],
   "source": [
    "Txt = str(input('Enter string or regular expression to replace:'))\n",
    "Repl = str(input('Enter the replacement text:'))\n",
    "\n",
    "\n",
    "## Obtain list of filenames and add to list\n",
    "FileList = [f for f in listdir(Dir) if isfile(join(Dir, f))]\n",
    "# print(FileList)   # Check\n",
    "\n",
    "\n",
    "## Search and replace part of filename using regular expression\n",
    "for oldname in FileList:\n",
    "    print('File found:', oldname)\n",
    "    newfilename = re.sub(re.escape(Txt), Repl, oldname)\n",
    "        # re.escape to deal with escape (special) characters\n",
    "    os.rename(oldname, newfilename)\n",
    "    print('File changed to:', newfilename, '\\n')"
   ]
  }
 ]
}